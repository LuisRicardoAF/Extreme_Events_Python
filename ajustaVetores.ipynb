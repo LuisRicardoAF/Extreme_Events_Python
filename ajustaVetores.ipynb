{
 "cells": [
  {
   "cell_type": "markdown",
   "metadata": {},
   "source": [
    "## Ajustando imagens que foram geradas pelos arquivos netcdf\n",
    "\n",
    "### - converte as imagens para um ajuste de 300x300 pixeis\n",
    "### - converte para escala de cinza\n",
    "\n",
    "### - insere os arrays gerados no dataframe\n",
    "\n"
   ]
  },
  {
   "cell_type": "code",
   "execution_count": 1,
   "metadata": {},
   "outputs": [
    {
     "name": "stderr",
     "output_type": "stream",
     "text": [
      "Using TensorFlow backend.\n"
     ]
    }
   ],
   "source": [
    "import pandas as pd\n",
    "from collections import OrderedDict\n",
    "\n",
    "from sklearn.datasets import load_sample_images\n",
    "from keras.preprocessing.image import ImageDataGenerator, array_to_img, img_to_array, load_img\n",
    "from skimage.feature import hog\n",
    "import skimage\n",
    "from skimage.io import imread\n",
    "from skimage.transform import rescale\n",
    "import numpy as np\n",
    "import matplotlib.pyplot as plt\n",
    "from sklearn.base import BaseEstimator, TransformerMixin\n",
    "from skimage.transform import rescale, resize, downscale_local_mean\n",
    "from skimage import data, color\n",
    "from skimage.feature import hog\n",
    "from sklearn.model_selection import train_test_split"
   ]
  },
  {
   "cell_type": "markdown",
   "metadata": {},
   "source": [
    "## Instancia os caminhos dos arquivos"
   ]
  },
  {
   "cell_type": "code",
   "execution_count": 2,
   "metadata": {},
   "outputs": [],
   "source": [
    "#setando tamanho padrao das imagens\n",
    "width = 300\n",
    "height = 300\n",
    "\n",
    "caminhoEvento = \"C:\\/Users\\/Administrador\\/Desktop\\/App Python\\/Artificial_Positivos\\/\"\n",
    "caminhoNaoEvento = \"C:\\/Users\\/Administrador\\/Desktop\\/App Python\\/Artificial_Negativos\\/\"\n",
    "\n",
    "artificialEvent = \"C:\\/Users\\/Administrador\\/Desktop\\/App Python\\/Artificial_Positivos\\/\"\n",
    "artificialNaoEvent = \"C:\\/Users\\/Administrador\\/Desktop\\/App Python\\/Artificial_Negativos\\/\"\n",
    "\n",
    "caminhoDataframe = \"C:\\/Users\\/Administrador\\/Desktop\\/App Python\\/\""
   ]
  },
  {
   "cell_type": "markdown",
   "metadata": {},
   "source": [
    "## Gerando DataFrame"
   ]
  },
  {
   "cell_type": "code",
   "execution_count": 3,
   "metadata": {},
   "outputs": [],
   "source": [
    "def geraArrayImagem():\n",
    "    arrayIMG_ejection = []\n",
    "    arrayIMG_noejection = []\n",
    "    array_Label_Eje = []\n",
    "    array_Label_No_Eje = []\n",
    "    \n",
    "    for i in range(0,914):\n",
    "        img = imread(artificialEvent+\"positivos (\"+str(i)+\").bmp\")# this is a PIL image\n",
    "        img = color.rgb2gray(img)\n",
    "        res = resize(img, (width, height),anti_aliasing=True)\n",
    "        img = img_to_array(res)\n",
    "        arrayIMG_ejection.append(img)\n",
    "        array_Label_Eje.append(\"Evento\")\n",
    "        print (i)\n",
    "    \n",
    "    for i in range(0,904):\n",
    "        img2 = imread(artificialNaoEvent+\"negativo (\"+str(i)+\").bmp\")# this is a PIL image\n",
    "        img2 = color.rgb2gray(img2)\n",
    "        res2 = resize(img2, (width, height),anti_aliasing=True)\n",
    "        img2 = img_to_array(res2)\n",
    "        arrayIMG_noejection.append(img2)\n",
    "        array_Label_No_Eje.append(\"N_Evento\")\n",
    "        print (i)\n",
    "    \n",
    "    \n",
    "    dataframe_Ejection = pd.DataFrame({'Array_IMG':arrayIMG_ejection, 'Label': array_Label_Eje})\n",
    "    dataframe_No_Ejection = pd.DataFrame({'Array_IMG':arrayIMG_noejection, 'Label':array_Label_No_Eje}) \n",
    "    \n",
    "    return dataframe_Ejection,dataframe_No_Ejection\n",
    "    "
   ]
  },
  {
   "cell_type": "code",
   "execution_count": null,
   "metadata": {},
   "outputs": [],
   "source": [
    "df_event, df_no_event = geraArrayImagem()"
   ]
  },
  {
   "cell_type": "code",
   "execution_count": 4,
   "metadata": {},
   "outputs": [],
   "source": [
    "'''\n",
    "GERANDO DATAFRAME COM ARRAYS Evento e Nao Evento\n",
    "'''\n",
    "def salvaDataFrames_csv(dataFrame,caminhoSaida,nomeArquivo):\n",
    "    dataFrame.to_csv(caminhoSaida+'\\/'+nomeArquivo, sep=',', encoding = 'utf-8')\n",
    "       \n",
    "def salvaDataFrames_pkl(dataFrame,caminhoSaida,nomeArquivo):\n",
    "    dataFrame.to_pickle(caminhoSaida+'\\/'+nomeArquivo, compression='infer')\n",
    "\n"
   ]
  },
  {
   "cell_type": "code",
   "execution_count": null,
   "metadata": {},
   "outputs": [],
   "source": [
    "salvaDataFrames_pkl(df_ejec,caminhoDataframe,'Data_Frame_EVENTO.pkl')\n",
    "salvaDataFrames_pkl(df_no_ejec,caminhoDataframe,'Data_Frame_N_EVENTO.pkl')"
   ]
  }
 ],
 "metadata": {
  "kernelspec": {
   "display_name": "Python 3",
   "language": "python",
   "name": "python3"
  },
  "language_info": {
   "codemirror_mode": {
    "name": "ipython",
    "version": 3
   },
   "file_extension": ".py",
   "mimetype": "text/x-python",
   "name": "python",
   "nbconvert_exporter": "python",
   "pygments_lexer": "ipython3",
   "version": "3.6.8"
  }
 },
 "nbformat": 4,
 "nbformat_minor": 2
}
